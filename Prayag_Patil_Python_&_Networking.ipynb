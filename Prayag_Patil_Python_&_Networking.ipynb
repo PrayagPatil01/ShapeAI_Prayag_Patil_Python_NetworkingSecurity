{
  "nbformat": 4,
  "nbformat_minor": 0,
  "metadata": {
    "colab": {
      "name": "Prayag_Patil_Python & Networking.ipynb",
      "provenance": []
    },
    "kernelspec": {
      "name": "python3",
      "display_name": "Python 3"
    },
    "language_info": {
      "name": "python"
    }
  },
  "cells": [
    {
      "cell_type": "code",
      "metadata": {
        "colab": {
          "base_uri": "https://localhost:8080/"
        },
        "id": "yBvPzsAoOI-v",
        "outputId": "4b7c78c2-4262-40d4-e43b-e863719774bf"
      },
      "source": [
        "import hashlib\n",
        "print(hashlib.algorithms_available)"
      ],
      "execution_count": 9,
      "outputs": [
        {
          "output_type": "stream",
          "text": [
            "{'sha3_512', 'md5', 'sha224', 'shake_128', 'shake_256', 'blake2s', 'sha1', 'blake2b', 'sha3_384', 'sha3_224', 'sha384', 'sha512', 'sha256', 'sha3_256'}\n"
          ],
          "name": "stdout"
        }
      ]
    },
    {
      "cell_type": "code",
      "metadata": {
        "id": "ieY5jr-wiUl2",
        "colab": {
          "base_uri": "https://localhost:8080/"
        },
        "outputId": "ee950022-008a-4197-e5ff-6465e063cd89"
      },
      "source": [
        "import hashlib\n",
        "result = hashlib.md5(b'Prayag Patil')\n",
        "print(\"The byte equivalent of hash is : \", end =\"\")\n",
        "print(result.digest())"
      ],
      "execution_count": 5,
      "outputs": [
        {
          "output_type": "stream",
          "text": [
            "The byte equivalent of hash is : b'\\xfd\\x83\\xd7t\\x9f\\xc9ul0\\xa8\\x18\\np\\xbbg\\xb2'\n"
          ],
          "name": "stdout"
        }
      ]
    },
    {
      "cell_type": "code",
      "metadata": {
        "colab": {
          "base_uri": "https://localhost:8080/"
        },
        "id": "3F67UaVL2YZa",
        "outputId": "ce3b0588-91cc-4ca7-936c-00346d1b252b"
      },
      "source": [
        "import hashlib\n",
        "hash_object = hashlib.sha1(b'Prayag Patil')\n",
        "hex_dig = hash_object.hexdigest()\n",
        "print(hex_dig)"
      ],
      "execution_count": 6,
      "outputs": [
        {
          "output_type": "stream",
          "text": [
            "bff0d6868cb8ae13eb87974470f9fdc2e06e2275\n"
          ],
          "name": "stdout"
        }
      ]
    },
    {
      "cell_type": "code",
      "metadata": {
        "colab": {
          "base_uri": "https://localhost:8080/"
        },
        "id": "wmXs6t1k4Cp5",
        "outputId": "dfc244ae-d166-4425-a837-664ad041e2e0"
      },
      "source": [
        "import hashlib\n",
        "hash_object = hashlib.sha224(b'Prayag Patil')\n",
        "hex_dig = hash_object.hexdigest()\n",
        "print(hex_dig)"
      ],
      "execution_count": 7,
      "outputs": [
        {
          "output_type": "stream",
          "text": [
            "c4890faffdb0105d991a461e668e276685401b02eab1ef4372795047\n"
          ],
          "name": "stdout"
        }
      ]
    },
    {
      "cell_type": "code",
      "metadata": {
        "colab": {
          "base_uri": "https://localhost:8080/"
        },
        "id": "xCCvJQYw4GZn",
        "outputId": "d96eedbc-6e65-40bf-a7b9-92f1118723b0"
      },
      "source": [
        "import hashlib\n",
        "hash_object = hashlib.sha256(b'Prayag Patil')\n",
        "hex_dig = hash_object.hexdigest()\n",
        "print(hex_dig)"
      ],
      "execution_count": 8,
      "outputs": [
        {
          "output_type": "stream",
          "text": [
            "d96e5749480827790a5bb95d1ad1c8581359d0edd3d8f56ddfc43f55f98bec3e\n"
          ],
          "name": "stdout"
        }
      ]
    }
  ]
}